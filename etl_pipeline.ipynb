{
 "cells": [
  {
   "cell_type": "code",
   "execution_count": 1,
   "id": "675b25d6",
   "metadata": {},
   "outputs": [
    {
     "name": "stdout",
     "output_type": "stream",
     "text": [
      "Defaulting to user installation because normal site-packages is not writeable\n",
      "Requirement already satisfied: pyspark in c:\\users\\user\\appdata\\roaming\\python\\python313\\site-packages (4.0.0)\n",
      "Requirement already satisfied: py4j==0.10.9.9 in c:\\users\\user\\appdata\\roaming\\python\\python313\\site-packages (from pyspark) (0.10.9.9)\n"
     ]
    },
    {
     "name": "stderr",
     "output_type": "stream",
     "text": [
      "\n",
      "[notice] A new release of pip is available: 25.1.1 -> 25.2\n",
      "[notice] To update, run: python.exe -m pip install --upgrade pip\n"
     ]
    },
    {
     "name": "stdout",
     "output_type": "stream",
     "text": [
      "Defaulting to user installation because normal site-packages is not writeable\n",
      "Requirement already satisfied: delta-spark in c:\\users\\user\\appdata\\roaming\\python\\python313\\site-packages (4.0.0)\n",
      "Requirement already satisfied: pyspark>=4.0.0 in c:\\users\\user\\appdata\\roaming\\python\\python313\\site-packages (from delta-spark) (4.0.0)\n",
      "Requirement already satisfied: importlib-metadata>=1.0.0 in c:\\users\\user\\appdata\\roaming\\python\\python313\\site-packages (from delta-spark) (8.7.0)\n",
      "Requirement already satisfied: zipp>=3.20 in c:\\users\\user\\appdata\\roaming\\python\\python313\\site-packages (from importlib-metadata>=1.0.0->delta-spark) (3.23.0)\n",
      "Requirement already satisfied: py4j==0.10.9.9 in c:\\users\\user\\appdata\\roaming\\python\\python313\\site-packages (from pyspark>=4.0.0->delta-spark) (0.10.9.9)\n"
     ]
    },
    {
     "name": "stderr",
     "output_type": "stream",
     "text": [
      "\n",
      "[notice] A new release of pip is available: 25.1.1 -> 25.2\n",
      "[notice] To update, run: python.exe -m pip install --upgrade pip\n"
     ]
    },
    {
     "name": "stdout",
     "output_type": "stream",
     "text": [
      "Defaulting to user installation because normal site-packages is not writeable\n",
      "Requirement already satisfied: azure-storage-blob in c:\\users\\user\\appdata\\roaming\\python\\python313\\site-packages (12.25.1)\n",
      "Requirement already satisfied: azure-core>=1.30.0 in c:\\users\\user\\appdata\\roaming\\python\\python313\\site-packages (from azure-storage-blob) (1.35.0)\n",
      "Requirement already satisfied: cryptography>=2.1.4 in c:\\users\\user\\appdata\\roaming\\python\\python313\\site-packages (from azure-storage-blob) (45.0.5)\n",
      "Requirement already satisfied: typing-extensions>=4.6.0 in c:\\users\\user\\appdata\\roaming\\python\\python313\\site-packages (from azure-storage-blob) (4.14.1)\n",
      "Requirement already satisfied: isodate>=0.6.1 in c:\\users\\user\\appdata\\roaming\\python\\python313\\site-packages (from azure-storage-blob) (0.7.2)\n",
      "Requirement already satisfied: requests>=2.21.0 in c:\\users\\user\\appdata\\roaming\\python\\python313\\site-packages (from azure-core>=1.30.0->azure-storage-blob) (2.32.4)\n",
      "Requirement already satisfied: six>=1.11.0 in c:\\users\\user\\appdata\\roaming\\python\\python313\\site-packages (from azure-core>=1.30.0->azure-storage-blob) (1.17.0)\n",
      "Requirement already satisfied: cffi>=1.14 in c:\\users\\user\\appdata\\roaming\\python\\python313\\site-packages (from cryptography>=2.1.4->azure-storage-blob) (1.17.1)\n",
      "Requirement already satisfied: pycparser in c:\\users\\user\\appdata\\roaming\\python\\python313\\site-packages (from cffi>=1.14->cryptography>=2.1.4->azure-storage-blob) (2.22)\n",
      "Requirement already satisfied: charset_normalizer<4,>=2 in c:\\users\\user\\appdata\\roaming\\python\\python313\\site-packages (from requests>=2.21.0->azure-core>=1.30.0->azure-storage-blob) (3.4.2)\n",
      "Requirement already satisfied: idna<4,>=2.5 in c:\\users\\user\\appdata\\roaming\\python\\python313\\site-packages (from requests>=2.21.0->azure-core>=1.30.0->azure-storage-blob) (3.10)\n",
      "Requirement already satisfied: urllib3<3,>=1.21.1 in c:\\users\\user\\appdata\\roaming\\python\\python313\\site-packages (from requests>=2.21.0->azure-core>=1.30.0->azure-storage-blob) (2.5.0)\n",
      "Requirement already satisfied: certifi>=2017.4.17 in c:\\users\\user\\appdata\\roaming\\python\\python313\\site-packages (from requests>=2.21.0->azure-core>=1.30.0->azure-storage-blob) (2025.6.15)\n"
     ]
    },
    {
     "name": "stderr",
     "output_type": "stream",
     "text": [
      "\n",
      "[notice] A new release of pip is available: 25.1.1 -> 25.2\n",
      "[notice] To update, run: python.exe -m pip install --upgrade pip\n"
     ]
    }
   ],
   "source": [
    "!pip install pyspark\n",
    "!pip install delta-spark\n",
    "!pip install azure-storage-blob"
   ]
  },
  {
   "cell_type": "code",
   "execution_count": 2,
   "id": "8de74902",
   "metadata": {},
   "outputs": [],
   "source": [
    "# import Necessary libraries\n",
    "from pyspark.sql import SparkSession\n",
    "from pyspark.sql.functions import col, sum\n",
    "from pyspark.sql.types import FloatType\n",
    "from pyspark.sql.functions import concat_ws, to_timestamp, col\n",
    "from pyspark.sql import functions as F\n",
    "from pyspark.sql.types import StructType, StructField, StringType, IntegerType\n",
    "from pyspark.sql import DataFrameWriter\n",
    "from pyspark.sql.functions import monotonically_increasing_id\n",
    "from pyspark.sql.functions import col\n",
    "import os"
   ]
  },
  {
   "cell_type": "code",
   "execution_count": 24,
   "id": "733f181b",
   "metadata": {},
   "outputs": [],
   "source": [
    "# Initialize Spark session\n",
    "spark = SparkSession.builder \\\n",
    "    .appName(\"UberDataPipelineAzure\") \\\n",
    "    .getOrCreate()"
   ]
  },
  {
   "cell_type": "code",
   "execution_count": 25,
   "id": "f7a45552",
   "metadata": {},
   "outputs": [
    {
     "data": {
      "text/html": [
       "\n",
       "            <div>\n",
       "                <p><b>SparkSession - in-memory</b></p>\n",
       "                \n",
       "        <div>\n",
       "            <p><b>SparkContext</b></p>\n",
       "\n",
       "            <p><a href=\"http://DESKTOP-NV8LV4E:4040\">Spark UI</a></p>\n",
       "\n",
       "            <dl>\n",
       "              <dt>Version</dt>\n",
       "                <dd><code>v4.0.0</code></dd>\n",
       "              <dt>Master</dt>\n",
       "                <dd><code>local[*]</code></dd>\n",
       "              <dt>AppName</dt>\n",
       "                <dd><code>UberDataPipelineAzure</code></dd>\n",
       "            </dl>\n",
       "        </div>\n",
       "        \n",
       "            </div>\n",
       "        "
      ],
      "text/plain": [
       "<pyspark.sql.session.SparkSession at 0x2ca252fcd70>"
      ]
     },
     "execution_count": 25,
     "metadata": {},
     "output_type": "execute_result"
    }
   ],
   "source": [
    "spark"
   ]
  },
  {
   "cell_type": "code",
   "execution_count": 26,
   "id": "7eeeee14",
   "metadata": {},
   "outputs": [
    {
     "name": "stdout",
     "output_type": "stream",
     "text": [
      "+----------+-------------------+----------------+---------------+----------------+-------------+-------------------+-----------------+--------+--------+---------------------------+---------------------------------+-------------------------+--------------------------+----------------+-----------------------+-------------+-------------+--------------+---------------+--------------+\n",
      "|      Date|               Time|      Booking ID| Booking Status|     Customer ID| Vehicle Type|    Pickup Location|    Drop Location|Avg VTAT|Avg CTAT|Cancelled Rides by Customer|Reason for cancelling by Customer|Cancelled Rides by Driver|Driver Cancellation Reason|Incomplete Rides|Incomplete Rides Reason|Booking Value|Ride Distance|Driver Ratings|Customer Rating|Payment Method|\n",
      "+----------+-------------------+----------------+---------------+----------------+-------------+-------------------+-----------------+--------+--------+---------------------------+---------------------------------+-------------------------+--------------------------+----------------+-----------------------+-------------+-------------+--------------+---------------+--------------+\n",
      "|2024-03-23|2025-08-18 12:29:38|\"\"\"CNR5884300\"\"\"|No Driver Found|\"\"\"CID1982111\"\"\"|        eBike|        Palam Vihar|          Jhilmil|    null|    null|                       null|                             null|                     null|                      null|            null|                   null|         null|         null|          null|           null|          null|\n",
      "|2024-11-29|2025-08-18 18:01:39|\"\"\"CNR1326809\"\"\"|     Incomplete|\"\"\"CID4604802\"\"\"|     Go Sedan|      Shastri Nagar|Gurgaon Sector 56|     4.9|    14.0|                       null|                             null|                     null|                      null|               1|      Vehicle Breakdown|          237|         5.73|          null|           null|           UPI|\n",
      "|2024-08-23|2025-08-18 08:56:10|\"\"\"CNR8494506\"\"\"|      Completed|\"\"\"CID9202816\"\"\"|         Auto|            Khandsa|    Malviya Nagar|    13.4|    25.8|                       null|                             null|                     null|                      null|            null|                   null|          627|        13.58|           4.9|            4.9|    Debit Card|\n",
      "|2024-10-21|2025-08-18 17:17:25|\"\"\"CNR8906825\"\"\"|      Completed|\"\"\"CID2610914\"\"\"|Premier Sedan|Central Secretariat|         Inderlok|    13.1|    28.5|                       null|                             null|                     null|                      null|            null|                   null|          416|        34.02|           4.6|            5.0|           UPI|\n",
      "|2024-09-16|2025-08-18 22:08:00|\"\"\"CNR1950162\"\"\"|      Completed|\"\"\"CID9933542\"\"\"|         Bike|   Ghitorni Village|      Khan Market|     5.3|    19.6|                       null|                             null|                     null|                      null|            null|                   null|          737|        48.21|           4.1|            4.3|           UPI|\n",
      "+----------+-------------------+----------------+---------------+----------------+-------------+-------------------+-----------------+--------+--------+---------------------------+---------------------------------+-------------------------+--------------------------+----------------+-----------------------+-------------+-------------+--------------+---------------+--------------+\n",
      "only showing top 5 rows\n"
     ]
    }
   ],
   "source": [
    "# Extract  this history data into a spark dataframe\n",
    "df = spark.read.csv(r\"raw data\\ncr_ride_bookings.csv\", header=True, inferSchema=True)\n",
    "df.show(5)\n"
   ]
  },
  {
   "cell_type": "code",
   "execution_count": 27,
   "id": "9cc49531",
   "metadata": {},
   "outputs": [
    {
     "name": "stdout",
     "output_type": "stream",
     "text": [
      "root\n",
      " |-- Date: date (nullable = true)\n",
      " |-- Time: timestamp (nullable = true)\n",
      " |-- Booking ID: string (nullable = true)\n",
      " |-- Booking Status: string (nullable = true)\n",
      " |-- Customer ID: string (nullable = true)\n",
      " |-- Vehicle Type: string (nullable = true)\n",
      " |-- Pickup Location: string (nullable = true)\n",
      " |-- Drop Location: string (nullable = true)\n",
      " |-- Avg VTAT: string (nullable = true)\n",
      " |-- Avg CTAT: string (nullable = true)\n",
      " |-- Cancelled Rides by Customer: string (nullable = true)\n",
      " |-- Reason for cancelling by Customer: string (nullable = true)\n",
      " |-- Cancelled Rides by Driver: string (nullable = true)\n",
      " |-- Driver Cancellation Reason: string (nullable = true)\n",
      " |-- Incomplete Rides: string (nullable = true)\n",
      " |-- Incomplete Rides Reason: string (nullable = true)\n",
      " |-- Booking Value: string (nullable = true)\n",
      " |-- Ride Distance: string (nullable = true)\n",
      " |-- Driver Ratings: string (nullable = true)\n",
      " |-- Customer Rating: string (nullable = true)\n",
      " |-- Payment Method: string (nullable = true)\n",
      "\n"
     ]
    }
   ],
   "source": [
    "df.printSchema()"
   ]
  },
  {
   "cell_type": "code",
   "execution_count": 28,
   "id": "8dbbd27f",
   "metadata": {},
   "outputs": [
    {
     "name": "stdout",
     "output_type": "stream",
     "text": [
      "Column: Date, Nulls: 0\n",
      "Column: Time, Nulls: 0\n",
      "Column: Booking ID, Nulls: 0\n",
      "Column: Booking Status, Nulls: 0\n",
      "Column: Customer ID, Nulls: 0\n",
      "Column: Vehicle Type, Nulls: 0\n",
      "Column: Pickup Location, Nulls: 0\n",
      "Column: Drop Location, Nulls: 0\n",
      "Column: Avg VTAT, Nulls: 10500\n",
      "Column: Avg CTAT, Nulls: 48000\n",
      "Column: Cancelled Rides by Customer, Nulls: 139500\n",
      "Column: Reason for cancelling by Customer, Nulls: 139500\n",
      "Column: Cancelled Rides by Driver, Nulls: 123000\n",
      "Column: Driver Cancellation Reason, Nulls: 123000\n",
      "Column: Incomplete Rides, Nulls: 141000\n",
      "Column: Incomplete Rides Reason, Nulls: 141000\n",
      "Column: Booking Value, Nulls: 48000\n",
      "Column: Ride Distance, Nulls: 48000\n",
      "Column: Driver Ratings, Nulls: 57000\n",
      "Column: Customer Rating, Nulls: 57000\n",
      "Column: Payment Method, Nulls: 48000\n"
     ]
    }
   ],
   "source": [
    "# Data cleaning and transformation\n",
    "# checking for Null values\n",
    "# Convert string \"null\" and empty strings to actual nulls\n",
    "df = df.replace(\"null\", None).replace(\"\", None)\n",
    "\n",
    "# Compute null counts for all columns\n",
    "null_counts_row = df.select([sum(col(c).isNull().cast(\"int\")).alias(c) for c in df.columns]).collect()[0]\n",
    "\n",
    "for c in df.columns:\n",
    "    print(f\"Column: {c}, Nulls: {null_counts_row[c]}\")\n"
   ]
  },
  {
   "cell_type": "code",
   "execution_count": 29,
   "id": "9118913e",
   "metadata": {},
   "outputs": [],
   "source": [
    "df = df.select([col(c).alias(c.replace(\" \", \"_\")) for c in df.columns])"
   ]
  },
  {
   "cell_type": "code",
   "execution_count": 30,
   "id": "21d2dbe8",
   "metadata": {},
   "outputs": [
    {
     "name": "stdout",
     "output_type": "stream",
     "text": [
      "+-------+----------------+--------------------+----------------+------------+---------------+-------------+------------------+------------------+---------------------------+---------------------------------+-------------------------+--------------------------+----------------+-----------------------+------------------+-----------------+------------------+------------------+--------------+\n",
      "|summary|      Booking_ID|      Booking_Status|     Customer_ID|Vehicle_Type|Pickup_Location|Drop_Location|          Avg_VTAT|          Avg_CTAT|Cancelled_Rides_by_Customer|Reason_for_cancelling_by_Customer|Cancelled_Rides_by_Driver|Driver_Cancellation_Reason|Incomplete_Rides|Incomplete_Rides_Reason|     Booking_Value|    Ride_Distance|    Driver_Ratings|   Customer_Rating|Payment_Method|\n",
      "+-------+----------------+--------------------+----------------+------------+---------------+-------------+------------------+------------------+---------------------------+---------------------------------+-------------------------+--------------------------+----------------+-----------------------+------------------+-----------------+------------------+------------------+--------------+\n",
      "|  count|          150000|              150000|          150000|      150000|         150000|       150000|            139500|            102000|                      10500|                            10500|                    27000|                     27000|            9000|                   9000|            102000|           102000|             93000|             93000|        102000|\n",
      "|   mean|            NULL|                NULL|            NULL|        NULL|           NULL|         NULL| 8.456351971326171|29.149636274509795|                        1.0|                             NULL|                      1.0|                      NULL|             1.0|                   NULL|508.29591176470586|24.63701166666673| 4.230992473118222| 4.404583870967753|          NULL|\n",
      "| stddev|            NULL|                NULL|            NULL|        NULL|           NULL|         NULL|3.7735638264095708| 8.902577244373287|       8.579844827476874...|                             NULL|                      0.0|                      NULL|             0.0|                   NULL| 395.8057740380031|14.00213831719843|0.4368714686526256|0.4378187328187107|          NULL|\n",
      "|    min|\"\"\"CNR1000037\"\"\"|Cancelled by Cust...|\"\"\"CID1000119\"\"\"|        Auto|          AIIMS|        AIIMS|              10.0|              10.0|                          1|                AC is not working|                        1|      Customer related ...|               1|        Customer Demand|               100|              1.0|               3.0|               3.0|          Cash|\n",
      "|    max|\"\"\"CNR9999933\"\"\"|     No Driver Found|\"\"\"CID9999850\"\"\"|       eBike|    Yamuna Bank|  Yamuna Bank|               9.9|              45.0|                          1|                    Wrong Address|                        1|      The customer was ...|               1|      Vehicle Breakdown|               999|             9.99|               5.0|               5.0|   Uber Wallet|\n",
      "+-------+----------------+--------------------+----------------+------------+---------------+-------------+------------------+------------------+---------------------------+---------------------------------+-------------------------+--------------------------+----------------+-----------------------+------------------+-----------------+------------------+------------------+--------------+\n",
      "\n"
     ]
    }
   ],
   "source": [
    "df.describe().show()"
   ]
  },
  {
   "cell_type": "code",
   "execution_count": 31,
   "id": "527aeba1",
   "metadata": {},
   "outputs": [
    {
     "name": "stdout",
     "output_type": "stream",
     "text": [
      "+----------+-------------------+----------------+--------------------+----------------+-------------+-------------------+-----------------+--------+--------+---------------------------+---------------------------------+-------------------------+--------------------------+----------------+-----------------------+-------------+-------------+--------------+---------------+--------------+\n",
      "|      Date|               Time|      Booking_ID|      Booking_Status|     Customer_ID| Vehicle_Type|    Pickup_Location|    Drop_Location|Avg_VTAT|Avg_CTAT|Cancelled_Rides_by_Customer|Reason_for_cancelling_by_Customer|Cancelled_Rides_by_Driver|Driver_Cancellation_Reason|Incomplete_Rides|Incomplete_Rides_Reason|Booking_Value|Ride_Distance|Driver_Ratings|Customer_Rating|Payment_Method|\n",
      "+----------+-------------------+----------------+--------------------+----------------+-------------+-------------------+-----------------+--------+--------+---------------------------+---------------------------------+-------------------------+--------------------------+----------------+-----------------------+-------------+-------------+--------------+---------------+--------------+\n",
      "|2024-03-23|2025-08-18 12:29:38|\"\"\"CNR5884300\"\"\"|     No Driver Found|\"\"\"CID1982111\"\"\"|        eBike|        Palam Vihar|          Jhilmil|    NULL|    NULL|                       NULL|                             NULL|                     NULL|                      NULL|            NULL|                   NULL|         NULL|         NULL|          NULL|           NULL|          NULL|\n",
      "|2024-11-29|2025-08-18 18:01:39|\"\"\"CNR1326809\"\"\"|          Incomplete|\"\"\"CID4604802\"\"\"|     Go Sedan|      Shastri Nagar|Gurgaon Sector 56|     4.9|    14.0|                       NULL|                             NULL|                     NULL|                      NULL|               1|      Vehicle Breakdown|          237|         5.73|          NULL|           NULL|           UPI|\n",
      "|2024-08-23|2025-08-18 08:56:10|\"\"\"CNR8494506\"\"\"|           Completed|\"\"\"CID9202816\"\"\"|         Auto|            Khandsa|    Malviya Nagar|    13.4|    25.8|                       NULL|                             NULL|                     NULL|                      NULL|            NULL|                   NULL|          627|        13.58|           4.9|            4.9|    Debit Card|\n",
      "|2024-10-21|2025-08-18 17:17:25|\"\"\"CNR8906825\"\"\"|           Completed|\"\"\"CID2610914\"\"\"|Premier Sedan|Central Secretariat|         Inderlok|    13.1|    28.5|                       NULL|                             NULL|                     NULL|                      NULL|            NULL|                   NULL|          416|        34.02|           4.6|            5.0|           UPI|\n",
      "|2024-09-16|2025-08-18 22:08:00|\"\"\"CNR1950162\"\"\"|           Completed|\"\"\"CID9933542\"\"\"|         Bike|   Ghitorni Village|      Khan Market|     5.3|    19.6|                       NULL|                             NULL|                     NULL|                      NULL|            NULL|                   NULL|          737|        48.21|           4.1|            4.3|           UPI|\n",
      "|2024-02-06|2025-08-18 09:44:56|\"\"\"CNR4096693\"\"\"|           Completed|\"\"\"CID4670564\"\"\"|         Auto|              AIIMS|      Narsinghpur|     5.1|    18.1|                       NULL|                             NULL|                     NULL|                      NULL|            NULL|                   NULL|          316|         4.85|           4.1|            4.6|           UPI|\n",
      "|2024-06-17|2025-08-18 15:45:58|\"\"\"CNR2002539\"\"\"|           Completed|\"\"\"CID6800553\"\"\"|      Go Mini|           Vaishali|     Punjabi Bagh|     7.1|    20.4|                       NULL|                             NULL|                     NULL|                      NULL|            NULL|                   NULL|          640|        41.24|           4.0|            4.1|           UPI|\n",
      "|2024-03-19|2025-08-18 17:37:37|\"\"\"CNR6568000\"\"\"|           Completed|\"\"\"CID8610436\"\"\"|         Auto|        Mayur Vihar|        Cyber Hub|    12.1|    16.5|                       NULL|                             NULL|                     NULL|                      NULL|            NULL|                   NULL|          136|         6.56|           4.4|            4.2|           UPI|\n",
      "|2024-09-14|2025-08-18 12:49:09|\"\"\"CNR4510807\"\"\"|     No Driver Found|\"\"\"CID7873618\"\"\"|     Go Sedan|    Noida Sector 62|  Noida Sector 18|    NULL|    NULL|                       NULL|                             NULL|                     NULL|                      NULL|            NULL|                   NULL|         NULL|         NULL|          NULL|           NULL|          NULL|\n",
      "|2024-12-16|2025-08-18 19:06:48|\"\"\"CNR7721892\"\"\"|          Incomplete|\"\"\"CID5214275\"\"\"|         Auto|             Rohini|     Adarsh Nagar|     6.1|    26.0|                       NULL|                             NULL|                     NULL|                      NULL|               1|            Other Issue|          135|        10.36|          NULL|           NULL|          Cash|\n",
      "|2024-06-14|2025-08-18 16:24:12|\"\"\"CNR9070334\"\"\"|           Completed|\"\"\"CID6680340\"\"\"|         Auto|       Udyog Bhawan| Dwarka Sector 21|     7.7|    18.9|                       NULL|                             NULL|                     NULL|                      NULL|            NULL|                   NULL|          181|        19.84|           4.2|            4.9|          Cash|\n",
      "|2024-09-18|2025-08-18 08:09:38|\"\"\"CNR9551927\"\"\"|     No Driver Found|\"\"\"CID7568143\"\"\"|         Auto|       Vidhan Sabha|            AIIMS|    NULL|    NULL|                       NULL|                             NULL|                     NULL|                      NULL|            NULL|                   NULL|         NULL|         NULL|          NULL|           NULL|          NULL|\n",
      "|2024-06-25|2025-08-18 22:44:15|\"\"\"CNR4386945\"\"\"| Cancelled by Driver|\"\"\"CID5543520\"\"\"|        eBike|        Patel Chowk|Kherki Daula Toll|     4.6|    NULL|                       NULL|                             NULL|                        1|      Personal & Car re...|            NULL|                   NULL|         NULL|         NULL|          NULL|           NULL|          NULL|\n",
      "|2024-09-11|2025-08-18 19:29:39|\"\"\"CNR2987763\"\"\"|           Completed|\"\"\"CID2669710\"\"\"|      Go Mini|      Malviya Nagar| Ghitorni Village|    12.2|    28.2|                       NULL|                             NULL|                     NULL|                      NULL|            NULL|                   NULL|          394|        21.44|           4.1|            4.7|           UPI|\n",
      "|2024-10-18|2025-08-18 18:28:53|\"\"\"CNR8962232\"\"\"|           Completed|\"\"\"CID1789354\"\"\"|      Go Mini|            Madipur|        GTB Nagar|    14.0|    30.9|                       NULL|                             NULL|                     NULL|                      NULL|            NULL|                   NULL|          836|        39.55|           4.7|            4.4|           UPI|\n",
      "|2024-06-07|2025-08-18 15:05:35|\"\"\"CNR2390352\"\"\"|           Completed|\"\"\"CID5432215\"\"\"|         Auto|        Jama Masjid|      Khan Market|     8.5|    36.9|                       NULL|                             NULL|                     NULL|                      NULL|            NULL|                   NULL|          410|        34.76|           4.0|            4.9|   Uber Wallet|\n",
      "|2024-07-01|2025-08-18 10:51:16|\"\"\"CNR3221338\"\"\"|           Completed|\"\"\"CID2581698\"\"\"|Premier Sedan|        IGI Airport|          Madipur|     5.6|    27.5|                       NULL|                             NULL|                     NULL|                      NULL|            NULL|                   NULL|          401|        21.97|           4.9|            4.3|           UPI|\n",
      "|2024-12-15|2025-08-18 15:08:25|\"\"\"CNR6739317\"\"\"| Cancelled by Driver|\"\"\"CID8682675\"\"\"|     Go Sedan|         Vinobapuri|        GTB Nagar|     6.0|    NULL|                       NULL|                             NULL|                        1|      Customer related ...|            NULL|                   NULL|         NULL|         NULL|          NULL|           NULL|          NULL|\n",
      "|2024-11-24|2025-08-18 09:07:10|\"\"\"CNR6126048\"\"\"|Cancelled by Cust...|\"\"\"CID1060329\"\"\"|        eBike|      Kashmere Gate|      Anand Vihar|    12.4|    NULL|                          1|             Driver is not mov...|                     NULL|                      NULL|            NULL|                   NULL|         NULL|         NULL|          NULL|           NULL|          NULL|\n",
      "|2024-05-24|2025-08-18 19:53:57|\"\"\"CNR9465840\"\"\"| Cancelled by Driver|\"\"\"CID9046501\"\"\"|        eBike|          Pitampura|      Rajiv Nagar|    10.3|    NULL|                       NULL|                             NULL|                        1|      Customer related ...|            NULL|                   NULL|         NULL|         NULL|          NULL|           NULL|          NULL|\n",
      "+----------+-------------------+----------------+--------------------+----------------+-------------+-------------------+-----------------+--------+--------+---------------------------+---------------------------------+-------------------------+--------------------------+----------------+-----------------------+-------------+-------------+--------------+---------------+--------------+\n",
      "only showing top 20 rows\n"
     ]
    }
   ],
   "source": [
    "df.show()"
   ]
  },
  {
   "cell_type": "code",
   "execution_count": 47,
   "id": "8a6ca65c",
   "metadata": {},
   "outputs": [],
   "source": [
    "df_cleaned = df_cleaned.select([col(c).alias(c.replace(\" \", \"_\")) for c in df_cleaned.columns])"
   ]
  },
  {
   "cell_type": "code",
   "execution_count": 32,
   "id": "e03cce83",
   "metadata": {},
   "outputs": [],
   "source": [
    "# Fill up the missing values\n",
    "df_cleaned = df.fillna({\n",
    "    \"Avg_VTAT\": 0,\n",
    "    \"Avg_CTAT\": 0,\n",
    "    \"Cancelled_Rides_by_Customer\": 0,\n",
    "    \"Reason_for_cancelling_by_Customer\": \"NA\",\n",
    "    \"Cancelled_Rides_by_Driver\": 0,\n",
    "    \"Driver_Cancellation_Reason\": \"NA\",\n",
    "    \"Incomplete_Rides\": 0,\n",
    "    \"Incomplete_Rides_Reason\": \"NA\",\n",
    "    \"Booking_Value\": 0,\n",
    "    \"Ride_Distance\": 0,\n",
    "    \"Driver_Ratings\": 0,\n",
    "    \"Customer_Rating\": 0,\n",
    "    \"Payment_Method\": \"NA\"\n",
    "})\n"
   ]
  },
  {
   "cell_type": "code",
   "execution_count": 33,
   "id": "0d2d1ca3",
   "metadata": {},
   "outputs": [
    {
     "name": "stdout",
     "output_type": "stream",
     "text": [
      "Column: Date, Nulls: 0\n",
      "Column: Time, Nulls: 0\n",
      "Column: Booking_ID, Nulls: 0\n",
      "Column: Booking_Status, Nulls: 0\n",
      "Column: Customer_ID, Nulls: 0\n",
      "Column: Vehicle_Type, Nulls: 0\n",
      "Column: Pickup_Location, Nulls: 0\n",
      "Column: Drop_Location, Nulls: 0\n",
      "Column: Avg_VTAT, Nulls: 0\n",
      "Column: Avg_CTAT, Nulls: 0\n",
      "Column: Cancelled_Rides_by_Customer, Nulls: 0\n",
      "Column: Reason_for_cancelling_by_Customer, Nulls: 0\n",
      "Column: Cancelled_Rides_by_Driver, Nulls: 0\n",
      "Column: Driver_Cancellation_Reason, Nulls: 0\n",
      "Column: Incomplete_Rides, Nulls: 0\n",
      "Column: Incomplete_Rides_Reason, Nulls: 0\n",
      "Column: Booking_Value, Nulls: 0\n",
      "Column: Ride_Distance, Nulls: 0\n",
      "Column: Driver_Ratings, Nulls: 0\n",
      "Column: Customer_Rating, Nulls: 0\n",
      "Column: Payment_Method, Nulls: 0\n"
     ]
    }
   ],
   "source": [
    "\n",
    "null_counts_row = df_cleaned.select([sum(col(c).isNull().cast(\"int\")).alias(c) for c in df_cleaned.columns]).collect()[0]\n",
    "for c in df.columns:\n",
    "    print(f\"Column: {c}, Nulls: {null_counts_row[c]}\")\n"
   ]
  },
  {
   "cell_type": "code",
   "execution_count": 34,
   "id": "e7bb964c",
   "metadata": {},
   "outputs": [],
   "source": [
    "# Drop both Date columns\n",
    "df_cleaned = df_cleaned.drop(\"Date\")\n"
   ]
  },
  {
   "cell_type": "code",
   "execution_count": 35,
   "id": "7716993b",
   "metadata": {},
   "outputs": [],
   "source": [
    "# Numeric columns\n",
    "numeric_cols = [\"Avg_VTAT\", \"Avg_CTAT\", \"Booking_Value\", \"Ride_Distance\", \"Driver_Ratings\", \"Customer_Rating\"]\n",
    "for c in numeric_cols:\n",
    "    df_cleaned = df_cleaned.withColumn(c, col(c).cast(FloatType()))\n",
    "\n",
    "# Flag columns\n",
    "flag_cols = [\"Cancelled_Rides_by_Customer\", \"Cancelled_Rides_by_Driver\", \"Incomplete_Rides\"]\n",
    "for c in flag_cols:\n",
    "    df_cleaned = df_cleaned.withColumn(c, col(c).cast(IntegerType()))\n"
   ]
  },
  {
   "cell_type": "code",
   "execution_count": 36,
   "id": "21a8f5f3",
   "metadata": {},
   "outputs": [
    {
     "name": "stdout",
     "output_type": "stream",
     "text": [
      "root\n",
      " |-- Time: timestamp (nullable = true)\n",
      " |-- Booking_ID: string (nullable = true)\n",
      " |-- Booking_Status: string (nullable = true)\n",
      " |-- Customer_ID: string (nullable = true)\n",
      " |-- Vehicle_Type: string (nullable = true)\n",
      " |-- Pickup_Location: string (nullable = true)\n",
      " |-- Drop_Location: string (nullable = true)\n",
      " |-- Avg_VTAT: float (nullable = true)\n",
      " |-- Avg_CTAT: float (nullable = true)\n",
      " |-- Cancelled_Rides_by_Customer: integer (nullable = true)\n",
      " |-- Reason_for_cancelling_by_Customer: string (nullable = false)\n",
      " |-- Cancelled_Rides_by_Driver: integer (nullable = true)\n",
      " |-- Driver_Cancellation_Reason: string (nullable = false)\n",
      " |-- Incomplete_Rides: integer (nullable = true)\n",
      " |-- Incomplete_Rides_Reason: string (nullable = false)\n",
      " |-- Booking_Value: float (nullable = true)\n",
      " |-- Ride_Distance: float (nullable = true)\n",
      " |-- Driver_Ratings: float (nullable = true)\n",
      " |-- Customer_Rating: float (nullable = true)\n",
      " |-- Payment_Method: string (nullable = false)\n",
      "\n"
     ]
    }
   ],
   "source": [
    "df_cleaned.printSchema()"
   ]
  },
  {
   "cell_type": "code",
   "execution_count": 37,
   "id": "34ca8924",
   "metadata": {},
   "outputs": [
    {
     "name": "stdout",
     "output_type": "stream",
     "text": [
      "+-------------------+----------------+--------------------+----------------+-------------+-------------------+-----------------+--------+--------+---------------------------+---------------------------------+-------------------------+--------------------------+----------------+-----------------------+-------------+-------------+--------------+---------------+--------------+\n",
      "|               Time|      Booking_ID|      Booking_Status|     Customer_ID| Vehicle_Type|    Pickup_Location|    Drop_Location|Avg_VTAT|Avg_CTAT|Cancelled_Rides_by_Customer|Reason_for_cancelling_by_Customer|Cancelled_Rides_by_Driver|Driver_Cancellation_Reason|Incomplete_Rides|Incomplete_Rides_Reason|Booking_Value|Ride_Distance|Driver_Ratings|Customer_Rating|Payment_Method|\n",
      "+-------------------+----------------+--------------------+----------------+-------------+-------------------+-----------------+--------+--------+---------------------------+---------------------------------+-------------------------+--------------------------+----------------+-----------------------+-------------+-------------+--------------+---------------+--------------+\n",
      "|2025-08-18 12:29:38|\"\"\"CNR5884300\"\"\"|     No Driver Found|\"\"\"CID1982111\"\"\"|        eBike|        Palam Vihar|          Jhilmil|     0.0|     0.0|                          0|                               NA|                        0|                        NA|               0|                     NA|          0.0|          0.0|           0.0|            0.0|            NA|\n",
      "|2025-08-18 18:01:39|\"\"\"CNR1326809\"\"\"|          Incomplete|\"\"\"CID4604802\"\"\"|     Go Sedan|      Shastri Nagar|Gurgaon Sector 56|     4.9|    14.0|                          0|                               NA|                        0|                        NA|               1|      Vehicle Breakdown|        237.0|         5.73|           0.0|            0.0|           UPI|\n",
      "|2025-08-18 08:56:10|\"\"\"CNR8494506\"\"\"|           Completed|\"\"\"CID9202816\"\"\"|         Auto|            Khandsa|    Malviya Nagar|    13.4|    25.8|                          0|                               NA|                        0|                        NA|               0|                     NA|        627.0|        13.58|           4.9|            4.9|    Debit Card|\n",
      "|2025-08-18 17:17:25|\"\"\"CNR8906825\"\"\"|           Completed|\"\"\"CID2610914\"\"\"|Premier Sedan|Central Secretariat|         Inderlok|    13.1|    28.5|                          0|                               NA|                        0|                        NA|               0|                     NA|        416.0|        34.02|           4.6|            5.0|           UPI|\n",
      "|2025-08-18 22:08:00|\"\"\"CNR1950162\"\"\"|           Completed|\"\"\"CID9933542\"\"\"|         Bike|   Ghitorni Village|      Khan Market|     5.3|    19.6|                          0|                               NA|                        0|                        NA|               0|                     NA|        737.0|        48.21|           4.1|            4.3|           UPI|\n",
      "|2025-08-18 09:44:56|\"\"\"CNR4096693\"\"\"|           Completed|\"\"\"CID4670564\"\"\"|         Auto|              AIIMS|      Narsinghpur|     5.1|    18.1|                          0|                               NA|                        0|                        NA|               0|                     NA|        316.0|         4.85|           4.1|            4.6|           UPI|\n",
      "|2025-08-18 15:45:58|\"\"\"CNR2002539\"\"\"|           Completed|\"\"\"CID6800553\"\"\"|      Go Mini|           Vaishali|     Punjabi Bagh|     7.1|    20.4|                          0|                               NA|                        0|                        NA|               0|                     NA|        640.0|        41.24|           4.0|            4.1|           UPI|\n",
      "|2025-08-18 17:37:37|\"\"\"CNR6568000\"\"\"|           Completed|\"\"\"CID8610436\"\"\"|         Auto|        Mayur Vihar|        Cyber Hub|    12.1|    16.5|                          0|                               NA|                        0|                        NA|               0|                     NA|        136.0|         6.56|           4.4|            4.2|           UPI|\n",
      "|2025-08-18 12:49:09|\"\"\"CNR4510807\"\"\"|     No Driver Found|\"\"\"CID7873618\"\"\"|     Go Sedan|    Noida Sector 62|  Noida Sector 18|     0.0|     0.0|                          0|                               NA|                        0|                        NA|               0|                     NA|          0.0|          0.0|           0.0|            0.0|            NA|\n",
      "|2025-08-18 19:06:48|\"\"\"CNR7721892\"\"\"|          Incomplete|\"\"\"CID5214275\"\"\"|         Auto|             Rohini|     Adarsh Nagar|     6.1|    26.0|                          0|                               NA|                        0|                        NA|               1|            Other Issue|        135.0|        10.36|           0.0|            0.0|          Cash|\n",
      "|2025-08-18 16:24:12|\"\"\"CNR9070334\"\"\"|           Completed|\"\"\"CID6680340\"\"\"|         Auto|       Udyog Bhawan| Dwarka Sector 21|     7.7|    18.9|                          0|                               NA|                        0|                        NA|               0|                     NA|        181.0|        19.84|           4.2|            4.9|          Cash|\n",
      "|2025-08-18 08:09:38|\"\"\"CNR9551927\"\"\"|     No Driver Found|\"\"\"CID7568143\"\"\"|         Auto|       Vidhan Sabha|            AIIMS|     0.0|     0.0|                          0|                               NA|                        0|                        NA|               0|                     NA|          0.0|          0.0|           0.0|            0.0|            NA|\n",
      "|2025-08-18 22:44:15|\"\"\"CNR4386945\"\"\"| Cancelled by Driver|\"\"\"CID5543520\"\"\"|        eBike|        Patel Chowk|Kherki Daula Toll|     4.6|     0.0|                          0|                               NA|                        1|      Personal & Car re...|               0|                     NA|          0.0|          0.0|           0.0|            0.0|            NA|\n",
      "|2025-08-18 19:29:39|\"\"\"CNR2987763\"\"\"|           Completed|\"\"\"CID2669710\"\"\"|      Go Mini|      Malviya Nagar| Ghitorni Village|    12.2|    28.2|                          0|                               NA|                        0|                        NA|               0|                     NA|        394.0|        21.44|           4.1|            4.7|           UPI|\n",
      "|2025-08-18 18:28:53|\"\"\"CNR8962232\"\"\"|           Completed|\"\"\"CID1789354\"\"\"|      Go Mini|            Madipur|        GTB Nagar|    14.0|    30.9|                          0|                               NA|                        0|                        NA|               0|                     NA|        836.0|        39.55|           4.7|            4.4|           UPI|\n",
      "|2025-08-18 15:05:35|\"\"\"CNR2390352\"\"\"|           Completed|\"\"\"CID5432215\"\"\"|         Auto|        Jama Masjid|      Khan Market|     8.5|    36.9|                          0|                               NA|                        0|                        NA|               0|                     NA|        410.0|        34.76|           4.0|            4.9|   Uber Wallet|\n",
      "|2025-08-18 10:51:16|\"\"\"CNR3221338\"\"\"|           Completed|\"\"\"CID2581698\"\"\"|Premier Sedan|        IGI Airport|          Madipur|     5.6|    27.5|                          0|                               NA|                        0|                        NA|               0|                     NA|        401.0|        21.97|           4.9|            4.3|           UPI|\n",
      "|2025-08-18 15:08:25|\"\"\"CNR6739317\"\"\"| Cancelled by Driver|\"\"\"CID8682675\"\"\"|     Go Sedan|         Vinobapuri|        GTB Nagar|     6.0|     0.0|                          0|                               NA|                        1|      Customer related ...|               0|                     NA|          0.0|          0.0|           0.0|            0.0|            NA|\n",
      "|2025-08-18 09:07:10|\"\"\"CNR6126048\"\"\"|Cancelled by Cust...|\"\"\"CID1060329\"\"\"|        eBike|      Kashmere Gate|      Anand Vihar|    12.4|     0.0|                          1|             Driver is not mov...|                        0|                        NA|               0|                     NA|          0.0|          0.0|           0.0|            0.0|            NA|\n",
      "|2025-08-18 19:53:57|\"\"\"CNR9465840\"\"\"| Cancelled by Driver|\"\"\"CID9046501\"\"\"|        eBike|          Pitampura|      Rajiv Nagar|    10.3|     0.0|                          0|                               NA|                        1|      Customer related ...|               0|                     NA|          0.0|          0.0|           0.0|            0.0|            NA|\n",
      "+-------------------+----------------+--------------------+----------------+-------------+-------------------+-----------------+--------+--------+---------------------------+---------------------------------+-------------------------+--------------------------+----------------+-----------------------+-------------+-------------+--------------+---------------+--------------+\n",
      "only showing top 20 rows\n"
     ]
    }
   ],
   "source": [
    "df_cleaned.show()"
   ]
  },
  {
   "cell_type": "code",
   "execution_count": 38,
   "id": "a3465bf1",
   "metadata": {},
   "outputs": [
    {
     "name": "stdout",
     "output_type": "stream",
     "text": [
      "+-----------+-----------+---------------+\n",
      "|Customer_ID|Customer_ID|Customer_Rating|\n",
      "+-----------+-----------+---------------+\n",
      "|0          |0          |4.1            |\n",
      "|1          |1          |0.0            |\n",
      "|2          |2          |0.0            |\n",
      "|3          |3          |4.7            |\n",
      "|4          |4          |4.3            |\n",
      "+-----------+-----------+---------------+\n",
      "only showing top 5 rows\n"
     ]
    }
   ],
   "source": [
    "# Creating tables\n",
    "customers = df_cleaned.select(\"Customer_ID\", \"Customer_Rating\")\\\n",
    "                      .dropDuplicates()\\\n",
    "                      .withColumn(\"Customer_ID\", monotonically_increasing_id())\\\n",
    "                      .select(\"Customer_ID\", \"Customer_ID\", \"Customer_Rating\")\n",
    "\n",
    "customers.show(5, truncate=False)"
   ]
  },
  {
   "cell_type": "code",
   "execution_count": 39,
   "id": "23e96557",
   "metadata": {},
   "outputs": [
    {
     "name": "stdout",
     "output_type": "stream",
     "text": [
      "+---------+--------------+\n",
      "|Driver_ID|Driver_Ratings|\n",
      "+---------+--------------+\n",
      "|0        |5.0           |\n",
      "|1        |3.8           |\n",
      "|2        |4.6           |\n",
      "|3        |3.4           |\n",
      "|4        |4.2           |\n",
      "+---------+--------------+\n",
      "only showing top 5 rows\n"
     ]
    }
   ],
   "source": [
    "\n",
    "# Driver table\n",
    "drivers = df_cleaned.select(\"Driver_Ratings\")\\\n",
    "                    .dropDuplicates()\\\n",
    "                    .withColumn(\"Driver_ID\", monotonically_increasing_id())\\\n",
    "                    .select(\"Driver_ID\", \"Driver_Ratings\")\n",
    "\n",
    "drivers.show(5, truncate=False)"
   ]
  },
  {
   "cell_type": "code",
   "execution_count": 40,
   "id": "1b3c14fb",
   "metadata": {},
   "outputs": [
    {
     "name": "stdout",
     "output_type": "stream",
     "text": [
      "+-----------+----------------+\n",
      "|Location_ID|Location_Name   |\n",
      "+-----------+----------------+\n",
      "|0          |Huda City Centre|\n",
      "|1          |Mayur Vihar     |\n",
      "|2          |Noida Sector 62 |\n",
      "|3          |Qutub Minar     |\n",
      "|4          |Ardee City      |\n",
      "+-----------+----------------+\n",
      "only showing top 5 rows\n"
     ]
    }
   ],
   "source": [
    "# Combine pickup and drop locations\n",
    "pickup = df_cleaned.select(\"Pickup_Location\").withColumnRenamed(\"Pickup_Location\", \"Location_Name\")\n",
    "drop = df_cleaned.select(\"Drop_Location\").withColumnRenamed(\"Drop_Location\", \"Location_Name\")\n",
    "\n",
    "all_locations = pickup.union(drop).dropDuplicates()\n",
    "\n",
    "# Add a unique Location_ID\n",
    "locations = all_locations.withColumn(\"Location_ID\", monotonically_increasing_id())\\\n",
    "                         .select(\"Location_ID\", \"Location_Name\")\n",
    "\n",
    "locations.show(5, truncate=False)"
   ]
  },
  {
   "cell_type": "code",
   "execution_count": 43,
   "id": "76ea8177",
   "metadata": {},
   "outputs": [
    {
     "name": "stdout",
     "output_type": "stream",
     "text": [
      "+----------------+----------------+---------+---------------+-------------+------------------+----------------+--------+--------+---------------------------+---------------------------------+-------------------------+--------------------------+----------------+-----------------------+-------------+-------------+--------------+\n",
      "|Booking_ID      |Customer_ID     |Driver_ID|Booking_Status |Vehicle_Type |Pickup_Location_ID|Drop_Location_ID|Avg_VTAT|Avg_CTAT|Cancelled_Rides_by_Customer|Reason_for_cancelling_by_Customer|Cancelled_Rides_by_Driver|Driver_Cancellation_Reason|Incomplete_Rides|Incomplete_Rides_Reason|Booking_Value|Ride_Distance|Payment_Method|\n",
      "+----------------+----------------+---------+---------------+-------------+------------------+----------------+--------+--------+---------------------------+---------------------------------+-------------------------+--------------------------+----------------+-----------------------+-------------+-------------+--------------+\n",
      "|\"\"\"CNR5884300\"\"\"|\"\"\"CID1982111\"\"\"|20       |No Driver Found|eBike        |94                |70              |0.0     |0.0     |0                          |NA                               |0                        |NA                        |0               |NA                     |0.0          |0.0          |NA            |\n",
      "|\"\"\"CNR1326809\"\"\"|\"\"\"CID4604802\"\"\"|20       |Incomplete     |Go Sedan     |10                |78              |4.9     |14.0    |0                          |NA                               |0                        |NA                        |1               |Vehicle Breakdown      |237.0        |5.73         |UPI           |\n",
      "|\"\"\"CNR8494506\"\"\"|\"\"\"CID9202816\"\"\"|21       |Completed      |Auto         |75                |154             |13.4    |25.8    |0                          |NA                               |0                        |NA                        |0               |NA                     |627.0        |13.58        |Debit Card    |\n",
      "|\"\"\"CNR8906825\"\"\"|\"\"\"CID2610914\"\"\"|2        |Completed      |Premier Sedan|117               |136             |13.1    |28.5    |0                          |NA                               |0                        |NA                        |0               |NA                     |416.0        |34.02        |UPI           |\n",
      "|\"\"\"CNR1950162\"\"\"|\"\"\"CID9933542\"\"\"|12       |Completed      |Bike         |104               |86              |5.3     |19.6    |0                          |NA                               |0                        |NA                        |0               |NA                     |737.0        |48.21        |UPI           |\n",
      "+----------------+----------------+---------+---------------+-------------+------------------+----------------+--------+--------+---------------------------+---------------------------------+-------------------------+--------------------------+----------------+-----------------------+-------------+-------------+--------------+\n",
      "only showing top 5 rows\n"
     ]
    }
   ],
   "source": [
    "# Rename columns to remove spaces\n",
    "df_cleaned = df_cleaned.select([col(c).alias(c.replace(\" \", \"_\")) for c in df_cleaned.columns])\n",
    "drivers = drivers.select([col(c).alias(c.replace(\" \", \"_\")) for c in drivers.columns])\n",
    "locations = locations.select([col(c).alias(c.replace(\" \", \"_\")) for c in locations.columns])\n",
    "\n",
    "# Map Driver_Ratings to Driver_ID\n",
    "bookings = df_cleaned.join(drivers, on=\"Driver_Ratings\", how=\"left\")\n",
    "\n",
    "# Map Pickup Location to Location_ID\n",
    "bookings = bookings.join(\n",
    "    locations.withColumnRenamed(\"Location_ID\", \"Pickup_Location_ID\"),\n",
    "    bookings[\"Pickup_Location\"] == locations[\"Location_Name\"],\n",
    "    how=\"left\"\n",
    ").drop(\"Location_Name\")\n",
    "\n",
    "# Map Drop Location to Location_ID\n",
    "bookings = bookings.join(\n",
    "    locations.withColumnRenamed(\"Location_ID\", \"Drop_Location_ID\"),\n",
    "    bookings[\"Drop_Location\"] == locations[\"Location_Name\"],\n",
    "    how=\"left\"\n",
    ").drop(\"Location_Name\")\n",
    "\n",
    "# Select final columns in desired order\n",
    "bookings = bookings.select(\n",
    "    \"Booking_ID\", \"Customer_ID\", \"Driver_ID\", \"Booking_Status\", \"Vehicle_Type\",\n",
    "    \"Pickup_Location_ID\", \"Drop_Location_ID\", \"Avg_VTAT\", \"Avg_CTAT\",\n",
    "    \"Cancelled_Rides_by_Customer\", \"Reason_for_cancelling_by_Customer\",\n",
    "    \"Cancelled_Rides_by_Driver\", \"Driver_Cancellation_Reason\",\n",
    "    \"Incomplete_Rides\", \"Incomplete_Rides_Reason\", \"Booking_Value\",\n",
    "    \"Ride_Distance\", \"Payment_Method\"\n",
    ")\n",
    "\n",
    "bookings.show(5, truncate=False)\n"
   ]
  },
  {
   "cell_type": "code",
   "execution_count": null,
   "id": "834b3f55",
   "metadata": {},
   "outputs": [],
   "source": []
  }
 ],
 "metadata": {
  "kernelspec": {
   "display_name": "Python 3",
   "language": "python",
   "name": "python3"
  },
  "language_info": {
   "codemirror_mode": {
    "name": "ipython",
    "version": 3
   },
   "file_extension": ".py",
   "mimetype": "text/x-python",
   "name": "python",
   "nbconvert_exporter": "python",
   "pygments_lexer": "ipython3",
   "version": "3.13.0"
  }
 },
 "nbformat": 4,
 "nbformat_minor": 5
}
